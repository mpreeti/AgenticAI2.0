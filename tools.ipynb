{
 "cells": [
  {
   "cell_type": "markdown",
   "id": "e90b7d3b",
   "metadata": {},
   "source": [
    "Built-in Tools"
   ]
  },
  {
   "cell_type": "code",
   "execution_count": null,
   "id": "56e6bcc5",
   "metadata": {},
   "outputs": [],
   "source": [
    "from langchain_community.tools import WikipediaQueryRun, YouTubeSearchTool\n",
    "from langchain_community.utilities import WikipediaAPIWrapper\n",
    "from langchain_community.tools.tavily_search import TavilySearchResults\n",
    "\n",
    "import os"
   ]
  },
  {
   "cell_type": "code",
   "execution_count": 23,
   "id": "9b289bfc",
   "metadata": {},
   "outputs": [],
   "source": [
    "api_wrapper = WikipediaAPIWrapper(top_k_results=5,doc_content_chars_max=700)\n",
    "wiki_tool=WikipediaQueryRun(api_wrapper=api_wrapper)"
   ]
  },
  {
   "cell_type": "code",
   "execution_count": 16,
   "id": "2a1ebcc5",
   "metadata": {},
   "outputs": [
    {
     "name": "stdout",
     "output_type": "stream",
     "text": [
      "wikipedia\n",
      "A wrapper around Wikipedia. Useful for when you need to answer general questions about people, places, companies, facts, historical events, or other subjects. Input should be a search query.\n",
      "{'query': {'description': 'query to look up on wikipedia', 'title': 'Query', 'type': 'string'}}\n"
     ]
    }
   ],
   "source": [
    "print(wiki_tool.name)\n",
    "print(wiki_tool.description)\n",
    "print(wiki_tool.args)\n"
   ]
  },
  {
   "cell_type": "code",
   "execution_count": 24,
   "id": "c2eaffb0",
   "metadata": {},
   "outputs": [
    {
     "name": "stdout",
     "output_type": "stream",
     "text": [
      "Page: 2025 Indian Premier League\n",
      "Summary: The 2025 Indian Premier League, also known as IPL 18 and branded as TATA IPL 2025, was the 18th edition of the Indian Premier League. The tournament featured 10 teams competing in 74 matches. It began on 22 March and was held across 13 venues before being suspended on 9 May due to the 2025 India–Pakistan crisis. The matches resumed from 17 May across six venues, with the final rescheduled from 25 May to 3 June.\n",
      "The defending champions Kolkata Knight Riders were eliminated in the league stage. In the final, Royal Challengers Bengaluru defeated Punjab Kings by 6 runs to win their maiden title after 18 years. Sai Sudharsan and Prasidh Krishna of Gujarat\n"
     ]
    }
   ],
   "source": [
    "print(wiki_tool.run({'query':'Who won IPL 2025?'}))"
   ]
  },
  {
   "cell_type": "code",
   "execution_count": 31,
   "id": "b680f524",
   "metadata": {},
   "outputs": [
    {
     "name": "stdout",
     "output_type": "stream",
     "text": [
      "youtube_search\n",
      "search for youtube videos associated with a person. the input to this tool should be a comma separated list, the first part contains a person name and the second a number that is the maximum number of video results to return aka num_results. the second part is optional\n",
      "['https://www.youtube.com/watch?v=JxgmHe2NyeY&pp=ygUKS3Jpc2ggTmFpaw%3D%3D', 'https://www.youtube.com/watch?v=p4pHsuEf4Ms&pp=ygUKS3Jpc2ggTmFpaw%3D%3D']\n"
     ]
    }
   ],
   "source": [
    "tool=YouTubeSearchTool()\n",
    "print(tool.name)\n",
    "print(tool.description)\n",
    "print(tool.run('Krish Naik'))"
   ]
  },
  {
   "cell_type": "markdown",
   "id": "4b563ded",
   "metadata": {},
   "source": [
    "Tavily Search API is a specialized search engine designed for Large Language Models (LLMs) and AI agents. It provides real-time, accurate, and unbiased information, enabling AI applications to retrieve and process data efficiently."
   ]
  },
  {
   "cell_type": "code",
   "execution_count": 48,
   "id": "072377ce",
   "metadata": {},
   "outputs": [],
   "source": [
    "from dotenv import load_dotenv\n",
    "load_dotenv()\n",
    "\n",
    "TAVILY_API_KEY=os.getenv(\"TAVILY_API_KEY\")\n",
    "tool=TavilySearchResults(tavily_api_key=TAVILY_API_KEY)\n"
   ]
  },
  {
   "cell_type": "code",
   "execution_count": 49,
   "id": "1e39ac7a",
   "metadata": {},
   "outputs": [
    {
     "data": {
      "text/plain": [
       "[{'url': 'https://timesofindia.indiatimes.com/sports/cricket/ipl/top-stories/bengaluru-stampede-case-what-we-know-so-far-on-rcbs-celebrations-that-turned-catastrophic/articleshow/121670873.cms',\n",
       "  'content': \"[Follow us](https://news.google.com/publications/CAAqBwgKMM6y_Qowwu70Ag)\\n\\nRoyal Challengers Bengaluru's IPL victory celebrations turned tragic as a stampede at M Chinnaswamy Stadium resulted in 11 deaths and 75 injuries. FIRs have been filed against RCB, events organisers DNA, and Karnataka State Cricket Association for alleged negligence. The Karnataka High Court has sought a report from the government while arrests have been and officials suspended.\\n\\nRead More [...] [](https://timesofindia.indiatimes.com/city/bengaluru/celebrations-turn-tragic-bloodbath-at-rcbs-maiden-ipl-trophy-victory-day-to-remember-forever-see-pics/photostory/121646177.cms)[Celebrations turn tragic: Bloodbath at RCB’s maiden IPL trophy victory, day to remember forever | see pics Lakhs of fans had gathered around Chinnaswamy Stadium, celebrating RCB’s historic first-ever IPL title with joy and excitement.Times Of [...] ![Image 2: RCB Victory Parade: At least 8 Dead, Several Injured In Stampede Outside Bengaluru Stadium](https://static.toiimg.com/thumb/msid-121671297,imgsize-75322,width-400,resizemode-4/121671297.jpg)\\n\\n05:37\\n\\nVirat Kohli and the Royal Challengers Bengaluru team's celebrations turned tragic after a stampede at the Chinnaswamy Stadium. (PTI)\"},\n",
       " {'url': 'https://www.youtube.com/watch?v=gz8chxY7elU',\n",
       "  'content': \"At least 11 people were killed and 30 injured in a stampede outside the Chinnaswamy cricket stadium in Bengaluru. The incident happened during the Royal Challengers' victory celebrations after their first IPL triumph in 18 years. Did the state government underestimate the rush? Were crowd control measures not in place? Palki Sharma tells you.\\n\\n--- [...] It was supposed to be a day of pure joy, of celebration and pride. Instead, Bengaluru is in shock today. I'm sure you've seen the news and the pictures. Bengaluru was all decked up for a massive celebration today. Their IPL team had finally won the tournament. The Royal Challengers beat Punjab Kings yesterday. It was their first IPL trophy in 18 years. Now the RCB fans are a very passionate lot. Plus they've been waiting for a win since 2008. So they packed the streets of Bengaluru in [...] soon the fan frenzy turned fatal. The exact details are not clear yet but reports say the rush led to a stampede. At least 11 people were killed, including children, and more than 30 were injured. Like I said, the exact sequence of events is unclear, but these pictures give you an idea. Uh you can see fans climbing up fences and trees. In some places, the police pushed back with force. We will show you the pictures, but as always, viewer discretion is advised. [Applause] [Music] [Applause] Such\"},\n",
       " {'url': 'https://www.thehindu.com/news/national/rcb-ipl-victory-parade-stampede-death-toll-virat-kohli-chinnaswamy-stadium-live/article69656707.ece',\n",
       "  'content': 'Sachin Tendulkar has offered his condolences on the loss of 11 lives in a stampede outside Bengaluru’s Chinnaswamy Stadium during RCB’s IPL victory celebrations, describing the incident as “beyond tragic”.\\n\\nOn the day the stampede broke out in Bengaluru while celebrating the victory of Royal Challengers Bengaluru (RCB) in the IPL final, killing 11 and leaving scores injured, the Namma Metro witnessed unprecedented footfall. [...] A stampede that broke out near the Chinnaswamy stadium in Bengaluru, after fans gathered to celebrate Royal Challengers Bengaluru’s IPL win, led to the [deaths of 11 persons and injuries to 33](https://www.thehindu.com/news/cities/bangalore/rcb-ipl-victory-celebrations-stampede-bengaluru-death-toll/article69656538.ece) on Wednesday (June 4, 2025). The tragedy unfolded near the gates of the stadium, where over 2 lakh fans had gathered to mark RCB’s historic first title win in 18 years. [...] The joyous celebrations following [Royal Challengers Bengaluru’s (RCB) IPL win](https://www.thehindu.com/sport/cricket/indian-premier-league-2025-finals-royal-challengers-bengaluru-vs-punjab-kings/article69653108.ece) turned deadly on Wednesday (June 4, 2025) evening, as a [stampede at M. Chinnaswamy Stadium claimed 11 lives and injured 33](https://www.thehindu.com/news/cities/bangalore/rcb-ipl-victory-celebrations-stampede-bengaluru-death-toll/article69656538.ece). Overcrowding, confusion over'},\n",
       " {'url': 'https://www.reddit.com/r/Cricket/comments/1l33sse/3_feared_dead_in_stampede_at_rcb_victory/',\n",
       "  'content': \"A tragic day for Indian cricket — over 15 fans lost their lives during RCB's victory parade, not in protest or play, but in celebration. This\"},\n",
       " {'url': 'https://www.indiatoday.in/india/story/activist-files-complaint-against-virat-kohli-over-bengaluru-stadium-stampede-during-rcb-win-celebration-2737010-2025-06-06',\n",
       "  'content': \"An activist on Friday filed a complaint against star Indian cricketer and Royal Challengers Bengaluru's (RCB) Virat Kohli in connection with the [stampede outside M Chinnaswamy Stadium](https://www.indiatoday.in/india/karnataka/story/bengaluru-rcb-victory-parade-stampede-m-chinnaswamy-tragedy-waiting-to-happen-explained-five-points-details-2736295-2025-06-05) during the franchise's maiden IPL victory celebration, which killed 11 people. [...] According to preliminary information provided to the Karnataka government, [a temporary slab placed over a drain near the stadium premises collapsed](https://www.indiatoday.in/cities/bengaluru/story/bengaluru-stampede-dead-chinnaswamy-stadium-amid-rcb-ipl-victory-celebrations-2735702-2025-06-04) under the weight of people standing on it, sources said. The sudden collapse caused panic and a stampede occurred, resulting in multiple fatalities and injuries.\"}]"
      ]
     },
     "execution_count": 49,
     "metadata": {},
     "output_type": "execute_result"
    }
   ],
   "source": [
    "tool.invoke({'query':'What happened in RCB victory celebration?'})"
   ]
  },
  {
   "cell_type": "markdown",
   "id": "976921e7",
   "metadata": {},
   "source": [
    "Custom Tools"
   ]
  },
  {
   "cell_type": "code",
   "execution_count": 51,
   "id": "f46858cd",
   "metadata": {},
   "outputs": [],
   "source": [
    "def multiply(a:int,b:int)->int:\n",
    "    return a*b"
   ]
  },
  {
   "cell_type": "code",
   "execution_count": 53,
   "id": "d9078769",
   "metadata": {},
   "outputs": [
    {
     "ename": "AttributeError",
     "evalue": "'function' object has no attribute 'run'",
     "output_type": "error",
     "traceback": [
      "\u001b[1;31m---------------------------------------------------------------------------\u001b[0m",
      "\u001b[1;31mAttributeError\u001b[0m                            Traceback (most recent call last)",
      "Cell \u001b[1;32mIn[53], line 1\u001b[0m\n\u001b[1;32m----> 1\u001b[0m \u001b[43mmultiply\u001b[49m\u001b[38;5;241;43m.\u001b[39;49m\u001b[43mrun\u001b[49m(\u001b[38;5;241m3\u001b[39m\u001b[38;5;241m*\u001b[39m\u001b[38;5;241m5\u001b[39m)\n",
      "\u001b[1;31mAttributeError\u001b[0m: 'function' object has no attribute 'run'"
     ]
    }
   ],
   "source": [
    "multiply.run(3*5)"
   ]
  },
  {
   "cell_type": "code",
   "execution_count": 54,
   "id": "dfe8c53e",
   "metadata": {},
   "outputs": [
    {
     "ename": "AttributeError",
     "evalue": "'function' object has no attribute 'invoke'",
     "output_type": "error",
     "traceback": [
      "\u001b[1;31m---------------------------------------------------------------------------\u001b[0m",
      "\u001b[1;31mAttributeError\u001b[0m                            Traceback (most recent call last)",
      "Cell \u001b[1;32mIn[54], line 1\u001b[0m\n\u001b[1;32m----> 1\u001b[0m \u001b[43mmultiply\u001b[49m\u001b[38;5;241;43m.\u001b[39;49m\u001b[43minvoke\u001b[49m(\u001b[38;5;241m3\u001b[39m\u001b[38;5;241m*\u001b[39m\u001b[38;5;241m5\u001b[39m)\n",
      "\u001b[1;31mAttributeError\u001b[0m: 'function' object has no attribute 'invoke'"
     ]
    }
   ],
   "source": [
    "multiply.invoke(3*5)"
   ]
  },
  {
   "cell_type": "markdown",
   "id": "d0bf5d5c",
   "metadata": {},
   "source": [
    "To use tools from agents, define decorator and add description (comments ''') and pass parameters in invoke as dictionary"
   ]
  },
  {
   "cell_type": "code",
   "execution_count": 55,
   "id": "327f2a97",
   "metadata": {},
   "outputs": [],
   "source": [
    "from langchain.agents import tool\n",
    "@tool  # decorator\n",
    "def multiply(a:int,b:int)->int:\n",
    "    '''this tool is for the multiplication''' # description\n",
    "    return a*b"
   ]
  },
  {
   "cell_type": "code",
   "execution_count": 56,
   "id": "45fb4f4f",
   "metadata": {},
   "outputs": [
    {
     "data": {
      "text/plain": [
       "15"
      ]
     },
     "execution_count": 56,
     "metadata": {},
     "output_type": "execute_result"
    }
   ],
   "source": [
    "multiply.invoke({'a':3,'b':5})"
   ]
  },
  {
   "cell_type": "code",
   "execution_count": 59,
   "id": "59a123d5",
   "metadata": {},
   "outputs": [
    {
     "name": "stdout",
     "output_type": "stream",
     "text": [
      "multiply\n",
      "this tool is for the multiplication\n",
      "{'a': {'title': 'A', 'type': 'integer'}, 'b': {'title': 'B', 'type': 'integer'}}\n"
     ]
    }
   ],
   "source": [
    "print(multiply.name)\n",
    "print(multiply.description)\n",
    "print(multiply.args)"
   ]
  },
  {
   "cell_type": "code",
   "execution_count": 63,
   "id": "f8dea10b",
   "metadata": {},
   "outputs": [],
   "source": [
    "@tool\n",
    "def get_word_length(word:str)->int:\n",
    "    \"\"\"this funtion is calculating a length of the word\"\"\"\n",
    "    return len(word)"
   ]
  },
  {
   "cell_type": "code",
   "execution_count": 64,
   "id": "b2569e19",
   "metadata": {},
   "outputs": [
    {
     "name": "stdout",
     "output_type": "stream",
     "text": [
      "get_word_length\n",
      "this funtion is calculating a length of the word\n",
      "{'word': {'title': 'Word', 'type': 'string'}}\n"
     ]
    }
   ],
   "source": [
    "print(get_word_length.name)\n",
    "print(get_word_length.description)\n",
    "print(get_word_length.args)"
   ]
  },
  {
   "cell_type": "code",
   "execution_count": 65,
   "id": "539a8816",
   "metadata": {},
   "outputs": [
    {
     "data": {
      "text/plain": [
       "6"
      ]
     },
     "execution_count": 65,
     "metadata": {},
     "output_type": "execute_result"
    }
   ],
   "source": [
    "get_word_length.invoke('Preeti')"
   ]
  }
 ],
 "metadata": {
  "kernelspec": {
   "display_name": "Python 3",
   "language": "python",
   "name": "python3"
  },
  "language_info": {
   "codemirror_mode": {
    "name": "ipython",
    "version": 3
   },
   "file_extension": ".py",
   "mimetype": "text/x-python",
   "name": "python",
   "nbconvert_exporter": "python",
   "pygments_lexer": "ipython3",
   "version": "3.10.11"
  }
 },
 "nbformat": 4,
 "nbformat_minor": 5
}
