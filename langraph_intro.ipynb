{
 "cells": [
  {
   "cell_type": "code",
   "execution_count": null,
   "id": "8f9fcbbe",
   "metadata": {},
   "outputs": [],
   "source": [
    "graph()\n",
    "state\n",
    "edges\n",
    "nodes\n",
    "invoke\n",
    "stategraph()"
   ]
  },
  {
   "cell_type": "code",
   "execution_count": 10,
   "id": "4c3be89e",
   "metadata": {},
   "outputs": [],
   "source": [
    "def function1(input1):\n",
    "    return input1 + ' from first function'"
   ]
  },
  {
   "cell_type": "code",
   "execution_count": 11,
   "id": "a045ca9b",
   "metadata": {},
   "outputs": [],
   "source": [
    "def function2(input2):\n",
    "    return input2 + ' Weekend Practice from second function'"
   ]
  },
  {
   "cell_type": "code",
   "execution_count": 12,
   "id": "16a22d59",
   "metadata": {},
   "outputs": [],
   "source": [
    "def function3(input3):\n",
    "    pass"
   ]
  },
  {
   "cell_type": "code",
   "execution_count": 13,
   "id": "51b6b666",
   "metadata": {},
   "outputs": [
    {
     "data": {
      "text/plain": [
       "'Preeti from first function'"
      ]
     },
     "execution_count": 13,
     "metadata": {},
     "output_type": "execute_result"
    }
   ],
   "source": [
    "function1('Preeti')"
   ]
  },
  {
   "cell_type": "code",
   "execution_count": 14,
   "id": "9a8d7230",
   "metadata": {},
   "outputs": [
    {
     "data": {
      "text/plain": [
       "'Weekend Practice Weekend Practice from second function'"
      ]
     },
     "execution_count": 14,
     "metadata": {},
     "output_type": "execute_result"
    }
   ],
   "source": [
    "function2('Weekend Practice')"
   ]
  },
  {
   "cell_type": "code",
   "execution_count": 15,
   "id": "46df4060",
   "metadata": {},
   "outputs": [],
   "source": [
    "from langgraph.graph import Graph"
   ]
  },
  {
   "cell_type": "code",
   "execution_count": 16,
   "id": "00d0d2a7",
   "metadata": {},
   "outputs": [],
   "source": [
    "workflow1=Graph()"
   ]
  },
  {
   "cell_type": "code",
   "execution_count": 17,
   "id": "8fd5cefe",
   "metadata": {},
   "outputs": [
    {
     "data": {
      "text/plain": [
       "<langgraph.graph.graph.Graph at 0x1b5944ed6c0>"
      ]
     },
     "execution_count": 17,
     "metadata": {},
     "output_type": "execute_result"
    }
   ],
   "source": [
    "workflow1.add_node('func1',function1)\n",
    "workflow1.add_node('func2',function2)"
   ]
  },
  {
   "cell_type": "code",
   "execution_count": 18,
   "id": "e78b3b31",
   "metadata": {},
   "outputs": [
    {
     "data": {
      "text/plain": [
       "<langgraph.graph.graph.Graph at 0x1b5944ed6c0>"
      ]
     },
     "execution_count": 18,
     "metadata": {},
     "output_type": "execute_result"
    }
   ],
   "source": [
    "workflow1.add_edge('func1','func2')"
   ]
  },
  {
   "cell_type": "code",
   "execution_count": 19,
   "id": "dde7df28",
   "metadata": {},
   "outputs": [
    {
     "data": {
      "text/plain": [
       "<langgraph.graph.graph.Graph at 0x1b5944ed6c0>"
      ]
     },
     "execution_count": 19,
     "metadata": {},
     "output_type": "execute_result"
    }
   ],
   "source": [
    "workflow1.set_entry_point('func1')\n",
    "workflow1.set_finish_point('func2')"
   ]
  },
  {
   "cell_type": "code",
   "execution_count": 20,
   "id": "7163859d",
   "metadata": {},
   "outputs": [],
   "source": [
    "app=workflow1.compile()"
   ]
  },
  {
   "cell_type": "code",
   "execution_count": 21,
   "id": "a99b66c2",
   "metadata": {},
   "outputs": [
    {
     "data": {
      "text/plain": [
       "Graph(nodes={'func1': Node(id='func1', name='func1', data=func1(tags=None, recurse=True, explode_args=False, func_accepts_config=False, func_accepts={}), metadata=None), 'func2': Node(id='func2', name='func2', data=func2(tags=None, recurse=True, explode_args=False, func_accepts_config=False, func_accepts={}), metadata=None), '__start__': Node(id='__start__', name='__start__', data=None, metadata=None), '__end__': Node(id='__end__', name='__end__', data=None, metadata=None)}, edges=[Edge(source='__start__', target='func1', data=None, conditional=False), Edge(source='func1', target='func2', data=None, conditional=False), Edge(source='func2', target='__end__', data=None, conditional=False)])"
      ]
     },
     "execution_count": 21,
     "metadata": {},
     "output_type": "execute_result"
    }
   ],
   "source": [
    "app.get_graph()"
   ]
  },
  {
   "cell_type": "code",
   "execution_count": 22,
   "metadata": {},
   "outputs": [
    {
     "data": {
      "image/png": "[encoded data removed]",
      "text/plain": [
       "<IPython.core.display.Image object>"
      ]
     },
     "metadata": {},
     "output_type": "display_data"
    }
   ],
   "source": [
    "from IPython.display import Image,display\n",
    "\n",
    "display(Image(app.get_graph().draw_mermaid_png()))"
   ]
  },
  {
   "cell_type": "code",
   "execution_count": 23,
   "id": "974e0774",
   "metadata": {},
   "outputs": [
    {
     "data": {
      "text/plain": [
       "'hi this is Preeti from first function Weekend Practice from second function'"
      ]
     },
     "execution_count": 23,
     "metadata": {},
     "output_type": "execute_result"
    }
   ],
   "source": [
    "app.invoke(\"hi this is Preeti\")"
   ]
  },
  {
   "cell_type": "code",
   "execution_count": 24,
   "id": "c53aac1e",
   "metadata": {},
   "outputs": [
    {
     "name": "stdout",
     "output_type": "stream",
     "text": [
      "here is output from func1\n",
      "_______\n",
      "hi this is Preeti from first function\n",
      "\n",
      "\n",
      "here is output from func2\n",
      "_______\n",
      "hi this is Preeti from first function Weekend Practice from second function\n",
      "\n",
      "\n"
     ]
    }
   ],
   "source": [
    "for output in app.stream(\"hi this is Preeti\"):\n",
    "    for key,value in output.items():\n",
    "        print(f\"here is output from {key}\")\n",
    "        print(\"_______\")\n",
    "        print(value)\n",
    "        print(\"\\n\")"
   ]
  },
  {
   "cell_type": "markdown",
   "id": "7ac1bfce",
   "metadata": {},
   "source": [
    "Another workflow example"
   ]
  },
  {
   "cell_type": "code",
   "execution_count": 2,
   "id": "9c30e391",
   "metadata": {},
   "outputs": [],
   "source": [
    "import os\n",
    "from dotenv import load_dotenv\n",
    "load_dotenv()\n",
    "\n",
    "GOOGLE_API_KEY=os.getenv(\"GOOGLE_API_KEY\")\n"
   ]
  },
  {
   "cell_type": "code",
   "execution_count": 26,
   "id": "f4ad0f88",
   "metadata": {},
   "outputs": [],
   "source": [
    "from langchain_google_genai import ChatGoogleGenerativeAI\n",
    "model=ChatGoogleGenerativeAI(model='gemini-1.5-flash')"
   ]
  },
  {
   "cell_type": "code",
   "execution_count": 27,
   "id": "e3244585",
   "metadata": {},
   "outputs": [
    {
     "data": {
      "text/plain": [
       "'Hi there! How can I help you today?\\n'"
      ]
     },
     "execution_count": 27,
     "metadata": {},
     "output_type": "execute_result"
    }
   ],
   "source": [
    "model.invoke('hi').content"
   ]
  },
  {
   "cell_type": "code",
   "execution_count": 28,
   "id": "7959fab6",
   "metadata": {},
   "outputs": [],
   "source": [
    "def llm(input):\n",
    "    model=ChatGoogleGenerativeAI(model='gemini-1.5-flash')\n",
    "    output=model.invoke(input)\n",
    "    return output.content\n"
   ]
  },
  {
   "cell_type": "code",
   "execution_count": 29,
   "id": "3adc90cd",
   "metadata": {},
   "outputs": [],
   "source": [
    "def token_counter(input):\n",
    "    token=input.split()\n",
    "    token_num=len(token)\n",
    "    return f'total token number in generated ouput is {token_num}'"
   ]
  },
  {
   "cell_type": "code",
   "execution_count": 30,
   "id": "df4a78a9",
   "metadata": {},
   "outputs": [],
   "source": [
    "workflow2=Graph()"
   ]
  },
  {
   "cell_type": "code",
   "execution_count": 31,
   "id": "4d855c21",
   "metadata": {},
   "outputs": [
    {
     "data": {
      "text/plain": [
       "<langgraph.graph.graph.Graph at 0x1b5ffeebf70>"
      ]
     },
     "execution_count": 31,
     "metadata": {},
     "output_type": "execute_result"
    }
   ],
   "source": [
    "workflow2.add_node(\"My LLM\",llm)"
   ]
  },
  {
   "cell_type": "code",
   "execution_count": 32,
   "id": "2033aa48",
   "metadata": {},
   "outputs": [
    {
     "data": {
      "text/plain": [
       "<langgraph.graph.graph.Graph at 0x1b5ffeebf70>"
      ]
     },
     "execution_count": 32,
     "metadata": {},
     "output_type": "execute_result"
    }
   ],
   "source": [
    "workflow2.add_node(\"LLM_output_token_counter\",token_counter)"
   ]
  },
  {
   "cell_type": "code",
   "execution_count": 33,
   "id": "dcaa43aa",
   "metadata": {},
   "outputs": [
    {
     "data": {
      "text/plain": [
       "<langgraph.graph.graph.Graph at 0x1b5ffeebf70>"
      ]
     },
     "execution_count": 33,
     "metadata": {},
     "output_type": "execute_result"
    }
   ],
   "source": [
    "workflow2.add_edge(\"My LLM\",\"LLM_output_token_counter\")"
   ]
  },
  {
   "cell_type": "code",
   "execution_count": 34,
   "id": "40a0fe52",
   "metadata": {},
   "outputs": [
    {
     "data": {
      "text/plain": [
       "<langgraph.graph.graph.Graph at 0x1b5ffeebf70>"
      ]
     },
     "execution_count": 34,
     "metadata": {},
     "output_type": "execute_result"
    }
   ],
   "source": [
    "workflow2.set_entry_point('My LLM')\n",
    "workflow2.set_finish_point(\"LLM_output_token_counter\")\n"
   ]
  },
  {
   "cell_type": "code",
   "execution_count": 35,
   "id": "b004abc8",
   "metadata": {},
   "outputs": [],
   "source": [
    "app=workflow2.compile()"
   ]
  },
  {
   "cell_type": "code",
   "execution_count": 36,
   "id": "611b4156",
   "metadata": {},
   "outputs": [
    {
     "data": {
      "image/png": "[encoded data removed]",
      "text/plain": [
       "<IPython.core.display.Image object>"
      ]
     },
     "metadata": {},
     "output_type": "display_data"
    }
   ],
   "source": [
    "display(Image(app.get_graph().draw_mermaid_png()))"
   ]
  },
  {
   "cell_type": "code",
   "execution_count": 37,
   "id": "77b3aaaa",
   "metadata": {},
   "outputs": [
    {
     "data": {
      "text/plain": [
       "'total token number in generated ouput is 7'"
      ]
     },
     "execution_count": 37,
     "metadata": {},
     "output_type": "execute_result"
    }
   ],
   "source": [
    "app.invoke('can you tell me capital of India?')"
   ]
  },
  {
   "cell_type": "code",
   "execution_count": 38,
   "id": "3bdfb6fd",
   "metadata": {},
   "outputs": [
    {
     "data": {
      "text/plain": [
       "'total token number in generated ouput is 720'"
      ]
     },
     "execution_count": 38,
     "metadata": {},
     "output_type": "execute_result"
    }
   ],
   "source": [
    "app.invoke(\"tell me about the tata enterpirse in very detail.\")"
   ]
  },
  {
   "cell_type": "code",
   "execution_count": 39,
   "id": "a8aabff7",
   "metadata": {},
   "outputs": [
    {
     "name": "stdout",
     "output_type": "stream",
     "text": [
      "here is output from My LLM\n",
      "_______\n",
      "Tata Enterprises, more accurately referred to as the **Tata Group**, is a massive Indian multinational conglomerate headquartered in Mumbai, Maharashtra.  It's not a single entity but a sprawling network of more than 100 operating companies, under the umbrella of Tata Sons, a holding company.  Its history, structure, and operations are incredibly complex, making a truly comprehensive description lengthy.  However, I can provide a detailed overview across key aspects:\n",
      "\n",
      "**I. History and Founding:**\n",
      "\n",
      "The Tata Group's origins trace back to 1868 when Jamsetji Tata, a Parsi entrepreneur, founded the Tata & Sons trading company.  His initial ventures were in textile mills, but his vision extended far beyond.  He established the Tata Iron and Steel Company (now Tata Steel) in 1907, a landmark achievement laying the foundation for India's industrial growth.  Subsequent leaders, particularly J.R.D. Tata (Jamsetji's grandson), expanded the group into diverse sectors, emphasizing ethical practices and social responsibility.  This commitment to philanthropy and nation-building has been a defining characteristic throughout its history.\n",
      "\n",
      "**II. Structure and Ownership:**\n",
      "\n",
      "The Tata Group's structure is unique and complex.  Tata Sons is the principal investment holding company, owning stakes in various Tata operating companies.  However, it doesn't directly control all operations.  Many companies operate as independent entities with their own boards and management.  The ownership structure is largely characterized by trusts, most prominently the Sir Dorabji Tata Trust and the Sir Ratan Tata Trust, which collectively hold a significant portion of Tata Sons' shares. This trust-based ownership ensures long-term vision and minimizes short-term profit maximization at the expense of ethical considerations.  The trusts also play a vital role in the group's philanthropic activities.\n",
      "\n",
      "**III. Key Sectors and Businesses:**\n",
      "\n",
      "The Tata Group's reach spans a vast array of industries, making it a truly diversified conglomerate.  Some of its most prominent sectors include:\n",
      "\n",
      "* **Automotive:** Tata Motors (including Jaguar Land Rover), one of the largest automobile manufacturers in India and a global player.\n",
      "* **Steel:** Tata Steel, a global steel producer with operations in multiple countries.\n",
      "* **Information Technology:** Tata Consultancy Services (TCS), one of the world's leading IT services and consulting companies; Tata Elxsi, a global design and technology services company.\n",
      "* **Consumer Goods:** Tata Consumer Products (tea, coffee, salt, pulses, etc.), encompassing brands like Tata Tea, Tetley, and Tata Salt.\n",
      "* **Chemicals:** Tata Chemicals, involved in various chemical products.\n",
      "* **Energy:** Tata Power, involved in power generation and distribution.\n",
      "* **Telecommunications:** Tata Teleservices (though significantly scaled down in recent years).\n",
      "* **Hospitality:** Indian Hotels Company Limited (IHCL), operating luxury hotels under the Taj brand.\n",
      "* **Aerospace and Defence:** Tata Advanced Systems.\n",
      "\n",
      "\n",
      "**IV. Global Presence:**\n",
      "\n",
      "The Tata Group is not just an Indian giant; it has a significant international presence.  Companies like Tata Steel, Tata Motors (through Jaguar Land Rover), and TCS have substantial operations and market share in several countries across the globe, including the UK, USA, Europe, and others.\n",
      "\n",
      "**V. Corporate Social Responsibility (CSR):**\n",
      "\n",
      "Social responsibility is deeply embedded in the Tata Group's DNA.  The significant philanthropic activities of the Tata Trusts have had a profound impact on education, healthcare, and rural development in India.  The group also actively promotes sustainable business practices and environmental conservation.\n",
      "\n",
      "**VI. Challenges and Future Outlook:**\n",
      "\n",
      "Despite its size and success, the Tata Group faces challenges.  These include intense competition in global markets, economic fluctuations, technological disruptions, and the need to adapt to changing consumer preferences.  The group is constantly striving to innovate, expand into new markets, and embrace digital transformation to maintain its competitive edge and continue its legacy of growth and social impact.\n",
      "\n",
      "**VII. Leadership and Governance:**\n",
      "\n",
      "The Tata Group's leadership has historically been characterized by strong ethical principles and long-term vision.  The chairman of Tata Sons plays a crucial role in setting the overall strategic direction, while individual companies have their own CEOs and management teams.  The group's governance structure aims to balance centralized control with the autonomy of individual businesses.\n",
      "\n",
      "\n",
      "This overview provides a substantial, though still not exhaustive, picture of the Tata Group.  The sheer scale and diversity of its operations make it a subject of extensive study and analysis.  For a deeper understanding of specific aspects, further research into individual Tata companies and their operations is recommended.\n",
      "\n",
      "\n",
      "\n",
      "here is output from LLM_output_token_counter\n",
      "_______\n",
      "total token number in generated ouput is 694\n",
      "\n",
      "\n"
     ]
    }
   ],
   "source": [
    "for output in app.stream(\"tell me about the tata enterpirse in very detail.\"):\n",
    "    for key,value in output.items():\n",
    "        print(f\"here is output from {key}\")\n",
    "        print(\"_______\")\n",
    "        print(value)\n",
    "        print(\"\\n\")"
   ]
  }
 ],
 "metadata": {
  "kernelspec": {
   "display_name": "Python 3",
   "language": "python",
   "name": "python3"
  },
  "language_info": {
   "codemirror_mode": {
    "name": "ipython",
    "version": 3
   },
   "file_extension": ".py",
   "mimetype": "text/x-python",
   "name": "python",
   "nbconvert_exporter": "python",
   "pygments_lexer": "ipython3",
   "version": "3.10.11"
  }
 },
 "nbformat": 4,
 "nbformat_minor": 5
}
